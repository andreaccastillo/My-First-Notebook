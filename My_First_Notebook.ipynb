{
  "nbformat": 4,
  "nbformat_minor": 0,
  "metadata": {
    "colab": {
      "name": "My First Notebook",
      "provenance": [],
      "toc_visible": true,
      "authorship_tag": "ABX9TyNozLUvzT3o9fzVAEchduD8",
      "include_colab_link": true
    },
    "kernelspec": {
      "name": "python3",
      "display_name": "Python 3"
    },
    "language_info": {
      "name": "python"
    }
  },
  "cells": [
    {
      "cell_type": "markdown",
      "metadata": {
        "id": "view-in-github",
        "colab_type": "text"
      },
      "source": [
        "<a href=\"https://colab.research.google.com/github/andreaccastillo/My-First-Notebook/blob/main/My_First_Notebook.ipynb\" target=\"_parent\"><img src=\"https://colab.research.google.com/assets/colab-badge.svg\" alt=\"Open In Colab\"/></a>"
      ]
    },
    {
      "cell_type": "markdown",
      "source": [
        "This is some text \n",
        "\n",
        "we can write any language (like english)\n"
      ],
      "metadata": {
        "id": "fVsuUWZ_wrms"
      }
    },
    {
      "cell_type": "markdown",
      "source": [
        "# My Heading\n",
        "writing normal sentence\n",
        "\n",
        "## Heading level 2\n",
        "here is a list\n",
        "+ item 1\n",
        "+ item 2\n",
        "\n",
        "number list:\n",
        "####1\n",
        "####2.\n",
        "####3.\n"
      ],
      "metadata": {
        "id": "DeZLib9cxY8A"
      }
    },
    {
      "cell_type": "code",
      "source": [
        "# This is some example Python code\n",
        "# These lines starting with \"#\" are \"comments\"\n",
        "# Remember \"#\" means something different in Markdown than it does in Python\n",
        "\n",
        "print(\"HELLO WORLD!\")\n",
        "\n",
        "x = 2 + 2\n",
        "print(x)"
      ],
      "metadata": {
        "colab": {
          "base_uri": "https://localhost:8080/"
        },
        "id": "arnZYt_XyncA",
        "outputId": "cc527771-c134-45ba-bfb9-17b8b444d15b"
      },
      "execution_count": 2,
      "outputs": [
        {
          "output_type": "stream",
          "name": "stdout",
          "text": [
            "HELLO WORLD!\n",
            "4\n"
          ]
        }
      ]
    }
  ]
}